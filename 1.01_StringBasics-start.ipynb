{
  "cells": [
    {
      "cell_type": "code",
      "execution_count": 2,
      "metadata": {
        "id": "0sCS72juVR7P"
      },
      "outputs": [],
      "source": [
        "# define a new sequence\n",
        "seq = 'ACGT2'"
      ]
    },
    {
      "cell_type": "code",
      "execution_count": null,
      "metadata": {
        "id": "yTE_e3HpVR7Q",
        "outputId": "10932bb6-84bc-4312-bd97-4631256c6f4f"
      },
      "outputs": [
        {
          "data": {
            "text/plain": [
              "'ACGT2'"
            ]
          },
          "execution_count": 6,
          "metadata": {},
          "output_type": "execute_result"
        }
      ],
      "source": [
        "# define a new sequence\n",
        "#seq = \"ACGT\"\n",
        "seq"
      ]
    },
    {
      "cell_type": "code",
      "execution_count": 3,
      "metadata": {
        "collapsed": true,
        "id": "ztspledXVR7R",
        "outputId": "25f5bdac-aaaa-43fe-d37d-f318667fefb9",
        "colab": {
          "base_uri": "https://localhost:8080/",
          "height": 36
        }
      },
      "outputs": [
        {
          "output_type": "execute_result",
          "data": {
            "text/plain": [
              "'A'"
            ],
            "application/vnd.google.colaboratory.intrinsic+json": {
              "type": "string"
            }
          },
          "metadata": {},
          "execution_count": 3
        }
      ],
      "source": [
        "# Get first character from a string\n",
        "seq0 = seq[0]\n",
        "seq0"
      ]
    },
    {
      "cell_type": "code",
      "execution_count": 6,
      "metadata": {
        "collapsed": true,
        "id": "AwKTBklPVR7S",
        "outputId": "dff6a753-0828-420e-897a-1bbc6e290fb9",
        "colab": {
          "base_uri": "https://localhost:8080/"
        }
      },
      "outputs": [
        {
          "output_type": "execute_result",
          "data": {
            "text/plain": [
              "5"
            ]
          },
          "metadata": {},
          "execution_count": 6
        }
      ],
      "source": [
        "# get the length of a sequence\n",
        "len(seq)"
      ]
    },
    {
      "cell_type": "code",
      "execution_count": 5,
      "metadata": {
        "collapsed": true,
        "id": "s_I53QJIVR7S"
      },
      "outputs": [],
      "source": [
        "# empty string (epsilon)\n",
        "e = ''"
      ]
    },
    {
      "cell_type": "code",
      "execution_count": null,
      "metadata": {
        "collapsed": true,
        "id": "_C7GHhLYVR7S"
      },
      "outputs": [],
      "source": [
        "len(e)"
      ]
    },
    {
      "cell_type": "code",
      "execution_count": 1,
      "metadata": {
        "collapsed": true,
        "id": "qcN7rUoCVR7T",
        "outputId": "83135901-c613-4911-bc30-7fd13a8eae9d",
        "colab": {
          "base_uri": "https://localhost:8080/",
          "height": 36
        }
      },
      "outputs": [
        {
          "output_type": "execute_result",
          "data": {
            "text/plain": [
              "'AACCGGTT'"
            ],
            "application/vnd.google.colaboratory.intrinsic+json": {
              "type": "string"
            }
          },
          "metadata": {},
          "execution_count": 1
        }
      ],
      "source": [
        "# concatenation\n",
        "seq1 = 'AACC'\n",
        "seq2 = 'GGTT'\n",
        "seq3 = seq1 + seq2\n",
        "seq3\n"
      ]
    },
    {
      "cell_type": "code",
      "execution_count": 7,
      "metadata": {
        "collapsed": true,
        "id": "_uT2OLwDVR7T",
        "outputId": "13a2f134-1382-4a23-9121-ff9b31a6d839",
        "colab": {
          "base_uri": "https://localhost:8080/",
          "height": 36
        }
      },
      "outputs": [
        {
          "output_type": "execute_result",
          "data": {
            "text/plain": [
              "'ACGT'"
            ],
            "application/vnd.google.colaboratory.intrinsic+json": {
              "type": "string"
            }
          },
          "metadata": {},
          "execution_count": 7
        }
      ],
      "source": [
        "# Join the list to a string\n",
        "seqs = ['A', 'C', 'G', 'T']\n",
        "string = \"\".join(seqs)\n",
        "string\n"
      ]
    },
    {
      "cell_type": "code",
      "execution_count": 8,
      "metadata": {
        "collapsed": true,
        "id": "sVDdiw1PVR7T",
        "outputId": "6e97495c-4ed0-4d54-a2d8-99400d2c8d4b",
        "colab": {
          "base_uri": "https://localhost:8080/",
          "height": 36
        }
      },
      "outputs": [
        {
          "output_type": "execute_result",
          "data": {
            "text/plain": [
              "'G'"
            ],
            "application/vnd.google.colaboratory.intrinsic+json": {
              "type": "string"
            }
          },
          "metadata": {},
          "execution_count": 8
        }
      ],
      "source": [
        "# generate a random nucleotide\n",
        "import random\n",
        "random.choice('ACGT')"
      ]
    },
    {
      "cell_type": "code",
      "execution_count": 9,
      "metadata": {
        "collapsed": true,
        "id": "9c5Fp7jnVR7U",
        "outputId": "6e5a372c-f247-42cc-ff14-5e36b70449f7",
        "colab": {
          "base_uri": "https://localhost:8080/",
          "height": 36
        }
      },
      "outputs": [
        {
          "output_type": "execute_result",
          "data": {
            "text/plain": [
              "'TGAACTCCAG'"
            ],
            "application/vnd.google.colaboratory.intrinsic+json": {
              "type": "string"
            }
          },
          "metadata": {},
          "execution_count": 9
        }
      ],
      "source": [
        "# generate a random sequence with 10 characters\n",
        "import random\n",
        "seq = ''\n",
        "for _ in range(10):\n",
        "  seq += random.choice(\"ACGT\")\n",
        "seq"
      ]
    },
    {
      "cell_type": "code",
      "execution_count": null,
      "metadata": {
        "collapsed": true,
        "id": "Yyd8fawXVR7U"
      },
      "outputs": [],
      "source": [
        "# another way to generate a random sequence using python list comprehension\n",
        "seq = ''.join([random.choice('ACGT') for _ in range(10)])\n",
        "print(seq)"
      ]
    },
    {
      "cell_type": "code",
      "execution_count": 10,
      "metadata": {
        "collapsed": true,
        "id": "YMFsKi7cVR7V",
        "outputId": "8659fff7-58a3-471d-bcf4-82acf02f6db4",
        "colab": {
          "base_uri": "https://localhost:8080/",
          "height": 36
        }
      },
      "outputs": [
        {
          "output_type": "execute_result",
          "data": {
            "text/plain": [
              "'TGA'"
            ],
            "application/vnd.google.colaboratory.intrinsic+json": {
              "type": "string"
            }
          },
          "metadata": {},
          "execution_count": 10
        }
      ],
      "source": [
        "# get a substring (char 1-3) from seq string\n",
        "string = seq[:3]\n",
        "string"
      ]
    },
    {
      "cell_type": "code",
      "execution_count": 11,
      "metadata": {
        "collapsed": true,
        "id": "KrkS-SzAVR7V",
        "outputId": "4943384c-90bb-47af-b8b1-ab242f46888c",
        "colab": {
          "base_uri": "https://localhost:8080/",
          "height": 36
        }
      },
      "outputs": [
        {
          "output_type": "execute_result",
          "data": {
            "text/plain": [
              "'TGAAC'"
            ],
            "application/vnd.google.colaboratory.intrinsic+json": {
              "type": "string"
            }
          },
          "metadata": {},
          "execution_count": 11
        }
      ],
      "source": [
        "# get a prefix from the string\n",
        "prefix = 5\n",
        "seq[:prefix]\n"
      ]
    },
    {
      "cell_type": "code",
      "execution_count": 12,
      "metadata": {
        "collapsed": true,
        "id": "EOefmpgHVR7V",
        "outputId": "e6e18f57-3714-4533-a4a4-ffd75c984655",
        "colab": {
          "base_uri": "https://localhost:8080/",
          "height": 36
        }
      },
      "outputs": [
        {
          "output_type": "execute_result",
          "data": {
            "text/plain": [
              "'TCCAG'"
            ],
            "application/vnd.google.colaboratory.intrinsic+json": {
              "type": "string"
            }
          },
          "metadata": {},
          "execution_count": 12
        }
      ],
      "source": [
        "# get a suffix\n",
        "suffix = 5\n",
        "seq[suffix:]"
      ]
    },
    {
      "cell_type": "code",
      "execution_count": null,
      "metadata": {
        "id": "re25H0L3VR7W",
        "outputId": "d0c97d6a-eef4-4c29-f888-32f49260415b"
      },
      "outputs": [
        {
          "data": {
            "text/plain": [
              "'GT2'"
            ]
          },
          "execution_count": 7,
          "metadata": {},
          "output_type": "execute_result"
        }
      ],
      "source": [
        "# another way to get a suffix\n",
        "seq[-3:]"
      ]
    }
  ],
  "metadata": {
    "kernelspec": {
      "display_name": "PyCharm (ai-tracer-dash)",
      "language": "python",
      "name": "pycharm-898b6f66"
    },
    "language_info": {
      "codemirror_mode": {
        "name": "ipython",
        "version": 3
      },
      "file_extension": ".py",
      "mimetype": "text/x-python",
      "name": "python",
      "nbconvert_exporter": "python",
      "pygments_lexer": "ipython3",
      "version": "3.7.7"
    },
    "toc": {
      "base_numbering": 1,
      "nav_menu": {},
      "number_sections": true,
      "sideBar": true,
      "skip_h1_title": false,
      "title_cell": "Table of Contents",
      "title_sidebar": "Contents",
      "toc_cell": false,
      "toc_position": {},
      "toc_section_display": true,
      "toc_window_display": false
    },
    "varInspector": {
      "cols": {
        "lenName": 16,
        "lenType": 16,
        "lenVar": 40
      },
      "kernels_config": {
        "python": {
          "delete_cmd_postfix": "",
          "delete_cmd_prefix": "del ",
          "library": "var_list.py",
          "varRefreshCmd": "print(var_dic_list())"
        },
        "r": {
          "delete_cmd_postfix": ") ",
          "delete_cmd_prefix": "rm(",
          "library": "var_list.r",
          "varRefreshCmd": "cat(var_dic_list()) "
        }
      },
      "types_to_exclude": [
        "module",
        "function",
        "builtin_function_or_method",
        "instance",
        "_Feature"
      ],
      "window_display": false
    },
    "colab": {
      "provenance": []
    }
  },
  "nbformat": 4,
  "nbformat_minor": 0
}